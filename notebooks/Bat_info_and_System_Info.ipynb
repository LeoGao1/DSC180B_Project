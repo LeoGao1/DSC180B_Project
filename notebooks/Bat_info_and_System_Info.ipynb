{
 "cells": [
  {
   "cell_type": "code",
   "execution_count": 19,
   "id": "gentle-stock",
   "metadata": {},
   "outputs": [
    {
     "name": "stderr",
     "output_type": "stream",
     "text": [
      "d:\\python\\lib\\site-packages\\distributed\\node.py:151: UserWarning: Port 8787 is already in use.\n",
      "Perhaps you already have a cluster running?\n",
      "Hosting the HTTP server on port 8451 instead\n",
      "  warnings.warn(\n",
      "d:\\python\\lib\\site-packages\\dask\\dataframe\\io\\csv.py:477: UserWarning: Warning gzip compression does not support breaking apart files\n",
      "Please ensure that each individual file can fit in memory and\n",
      "use the keyword ``blocksize=None to remove this message``\n",
      "Setting ``blocksize=None``\n",
      "  warn(\n"
     ]
    }
   ],
   "source": [
    "#Clean System_info dataset and merge the batinfo and systeminfo\n",
    "\n",
    "import pandas as pd\n",
    "import numpy as np\n",
    "\n",
    "import dask\n",
    "import dask.dataframe as dd\n",
    "from dask.distributed import Client, LocalCluster\n",
    "import multiprocessing.popen_spawn_win32\n",
    "\n",
    "#create DASK local cluster and client\n",
    "cluster = LocalCluster(n_workers=4)\n",
    "client = Client(cluster)\n",
    "\n",
    "#read csv file\n",
    "bat_info = dd.read_csv('../data/batt_info.csv000',\n",
    "                       delimiter =\"\\1\",\n",
    "                       assume_missing=True)\n",
    "\n",
    "#drop missing value\n",
    "bat_info_clean = bat_info[bat_info.interval_start_utc <'2022']\n",
    "bat_info_clean = bat_info_clean[(bat_info.interval_end_utc <'2022')& (bat_info.interval_end_utc >'2019')]\n",
    "bat_info_clean = bat_info_clean[(bat_info_clean.dt <'2022')& (bat_info_clean.dt >'2019')]\n",
    "bat_info_clean = bat_info_clean[bat_info_clean.battery_enum <10]\n",
    "\n",
    "#Keep only one record for one guid\n",
    "bat_info_clean = bat_info_clean.drop_duplicates(subset=['guid'])\n",
    "\n",
    "#Normalize the chemistry\n",
    "bat_info_clean['chemistry'] = bat_info_clean['chemistry'].map_partitions(lambda x: x.astype(str).str.lower())\n",
    "\n",
    "def norm_chem(i):\n",
    "    #find the value for lion\n",
    "    \n",
    "    s = i.chemistry\n",
    "    if(s == 'lion'):\n",
    "        return 'lion'\n",
    "    elif(s == 'liio'):\n",
    "        return 'lion'\n",
    "    elif(s == 'li-i'):\n",
    "        return 'lion'\n",
    "    elif(s == 'li'):\n",
    "        return 'lion'\n",
    "    elif(s == 'lio'):\n",
    "        return 'lion'\n",
    "    \n",
    "    #find the value for lip\n",
    "    elif(s == 'lip'):\n",
    "        return 'lip'\n",
    "    elif(s == 'li p'):\n",
    "        return 'lip'\n",
    "    elif(s == 'lipo'):\n",
    "        return 'lip'\n",
    "    \n",
    "    #find the value of pbac\n",
    "    elif(s == 'pbac'):\n",
    "        return 'pbac'\n",
    "    \n",
    "    #find the missing values\n",
    "    elif(s == 'nan'):\n",
    "        return np.nan\n",
    "    elif(s == 'miss'):\n",
    "        return np.nan\n",
    "    else:\n",
    "        return np.nan\n",
    "    \n",
    "bat_info_clean['chemistry'] = bat_info_clean.apply(norm_chem, axis=1, meta=(None, 'str'))\n",
    "\n",
    "#drop missing value\n",
    "bat_info_clean = bat_info_clean.dropna(subset=['chemistry','battery_count','designed_capacity'])\n",
    "cond1 = bat_info_clean.designed_capacity != 0\n",
    "cond2 = bat_info_clean.battery_count != 0\n",
    "\n",
    "bat_info_clean = bat_info_clean[cond1& cond2]\n",
    "\n",
    "#only keep useful features\n",
    "bat_info_clean =bat_info_clean[['guid','chemistry','battery_count','designed_capacity']]\n",
    "bat_info_clean = bat_info_clean.compute()\n",
    "\n",
    "#read csv file\n",
    "sys_info = dd.read_csv('../data/system_sysinfo_unique_normalized.csv000.gz',\n",
    "                       delimiter =\"\\1\",\n",
    "                       assume_missing=True)\n",
    "useful_columns = ['guid','chassistype_2in1_category','countryname_normalized','modelvendor_normalized','model_normalized',\n",
    "                    'ram','os','#ofcores', 'age_category', 'graphicsmanuf', 'gfxcard',\n",
    "                   'graphicscardclass', 'processornumber', 'cpuvendor', 'cpuname',\n",
    "                   'cpucode', 'cpu_family', 'cpu_suffix', 'screensize_category', 'persona',\n",
    "                   'processor_line', 'vpro_enabled','discretegraphics', 'cpu_stepping', 'engagement_id']\n",
    "\n",
    "sys_info = sys_info[useful_columns]\n",
    "merged = bat_info_clean.merge(sys_info.compute(), on=['guid'],how='inner')\n",
    "\n",
    "merged.to_csv('../data/batt_info_and_system_info.csv',index = False)"
   ]
  },
  {
   "cell_type": "code",
   "execution_count": 13,
   "id": "conservative-fighter",
   "metadata": {},
   "outputs": [
    {
     "data": {
      "text/plain": [
       "Unknown        29434\n",
       "Convertible     2293\n",
       "Detachable       904\n",
       "Name: chassistype_2in1_category, dtype: int64"
      ]
     },
     "execution_count": 13,
     "metadata": {},
     "output_type": "execute_result"
    }
   ],
   "source": [
    "merged.chassistype_2in1_category.value_counts()"
   ]
  },
  {
   "cell_type": "code",
   "execution_count": 15,
   "id": "quarterly-ebony",
   "metadata": {},
   "outputs": [
    {
     "data": {
      "text/plain": [
       "United States of America                                7226\n",
       "Other                                                   2652\n",
       "Germany                                                 2155\n",
       "United Kingdom of Great Britain and Northern Ireland    1627\n",
       "Brazil                                                  1491\n",
       "Japan                                                   1404\n",
       "Canada                                                  1053\n",
       "India                                                   1004\n",
       "China                                                    962\n",
       "Korea, Republic of                                       937\n",
       "Italy                                                    858\n",
       "Netherlands                                              757\n",
       "Turkey                                                   647\n",
       "Mexico                                                   635\n",
       "France                                                   600\n",
       "Australia                                                577\n",
       "Spain                                                    570\n",
       "Russian Federation                                       544\n",
       "Taiwan, Province of China                                506\n",
       "Poland                                                   409\n",
       "Argentina                                                355\n",
       "Romania                                                  350\n",
       "Belgium                                                  330\n",
       "Indonesia                                                328\n",
       "Chile                                                    316\n",
       "Colombia                                                 292\n",
       "Switzerland                                              257\n",
       "Viet Nam                                                 227\n",
       "Denmark                                                  226\n",
       "Thailand                                                 223\n",
       "Philippines                                              218\n",
       "Israel                                                   202\n",
       "Czech Republic                                           199\n",
       "Greece                                                   181\n",
       "Sweden                                                   181\n",
       "Peru                                                     176\n",
       "Malaysia                                                 174\n",
       "Ukraine                                                  171\n",
       "Portugal                                                 148\n",
       "Egypt                                                    146\n",
       "United Arab Emirates                                     146\n",
       "Norway                                                   142\n",
       "Saudi Arabia                                             132\n",
       "Hungary                                                  129\n",
       "Pakistan                                                 127\n",
       "Singapore                                                124\n",
       "Hong Kong                                                119\n",
       "South Africa                                             117\n",
       "Austria                                                  117\n",
       "Finland                                                  114\n",
       "Bangladesh                                                50\n",
       "Name: countryname_normalized, dtype: int64"
      ]
     },
     "execution_count": 15,
     "metadata": {},
     "output_type": "execute_result"
    }
   ],
   "source": [
    "merged.countryname_normalized.value_counts()"
   ]
  },
  {
   "cell_type": "code",
   "execution_count": 16,
   "id": "caring-frequency",
   "metadata": {},
   "outputs": [
    {
     "data": {
      "text/plain": [
       "HP                       6405\n",
       "Dell                     6255\n",
       "Lenovo                   5501\n",
       "Asus                     4323\n",
       "Acer                     2850\n",
       "MSI                      1152\n",
       "Toshiba                   894\n",
       "Samsung                   864\n",
       "Microsoft Corporation     524\n",
       "Sony                      470\n",
       "Other                     411\n",
       "Fujitsu                   334\n",
       "Alienware                 297\n",
       "LG                        273\n",
       "Notebook                  246\n",
       "Medion                    189\n",
       "Apple                     173\n",
       "Razer                     168\n",
       "NEC                       113\n",
       "Gigabyte                  108\n",
       "Panasonic Corporation     108\n",
       "Timi                       86\n",
       "Mouse Computer             76\n",
       "Clevo                      66\n",
       "Positivo                   65\n",
       "Hasee                      64\n",
       "Unknown                    60\n",
       "MONSTER                    53\n",
       "HUAWEI                     51\n",
       "VAIO Corporation           50\n",
       "Packard Bell               48\n",
       "Intel                      45\n",
       "Gateway                    43\n",
       "System manufacturer        40\n",
       "Wortmann_AG                37\n",
       "Casper Bilgisayar          35\n",
       "MECHREVO                   28\n",
       "To be filled by O.E.M      26\n",
       "TIMI                       24\n",
       "HANSUNG COMPUTER           16\n",
       "Default string             12\n",
       "Compaq                     12\n",
       "Shinelon Computer          11\n",
       "Digibras                    9\n",
       "innotek GmbH                8\n",
       "ECS                         6\n",
       "Shuttle Inc.                1\n",
       "Biostar                     1\n",
       "Name: modelvendor_normalized, dtype: int64"
      ]
     },
     "execution_count": 16,
     "metadata": {},
     "output_type": "execute_result"
    }
   ],
   "source": [
    "merged.modelvendor_normalized.value_counts()"
   ]
  },
  {
   "cell_type": "code",
   "execution_count": 17,
   "id": "hourly-merchandise",
   "metadata": {},
   "outputs": [
    {
     "data": {
      "text/plain": [
       "8.000000      14704\n",
       "16.000000      7856\n",
       "4.000000       5436\n",
       "12.000000      1724\n",
       "6.000000       1231\n",
       "32.000000       913\n",
       "24.000000       176\n",
       "2.000000        120\n",
       "20.000000       107\n",
       "10.000000        70\n",
       "64.000000        63\n",
       "3.000000         62\n",
       "8.015625         48\n",
       "16.015625        21\n",
       "4.015625         17\n",
       "8.007812         14\n",
       "5.000000         10\n",
       "40.000000         9\n",
       "48.000000         7\n",
       "4.007812          5\n",
       "0.000000          4\n",
       "12.007812         3\n",
       "22.000000         3\n",
       "8.000977          3\n",
       "8.003906          3\n",
       "16.007812         2\n",
       "128.000000        2\n",
       "28.000000         2\n",
       "4.000977          2\n",
       "13.000000         1\n",
       "80.000000         1\n",
       "36.000000         1\n",
       "8.005859          1\n",
       "9.000000          1\n",
       "48.001953         1\n",
       "18.000000         1\n",
       "12.015625         1\n",
       "4.003906          1\n",
       "34.547852         1\n",
       "4.005859          1\n",
       "56.000000         1\n",
       "14.000000         1\n",
       "4.005833          1\n",
       "Name: ram, dtype: int64"
      ]
     },
     "execution_count": 17,
     "metadata": {},
     "output_type": "execute_result"
    }
   ],
   "source": [
    "merged.ram.value_counts()"
   ]
  },
  {
   "cell_type": "code",
   "execution_count": 18,
   "id": "deadly-strand",
   "metadata": {},
   "outputs": [
    {
     "data": {
      "text/plain": [
       "Win10         31495\n",
       "Win8.1          809\n",
       "Win7            249\n",
       "Win8             70\n",
       "Win Server        8\n",
       "Name: os, dtype: int64"
      ]
     },
     "execution_count": 18,
     "metadata": {},
     "output_type": "execute_result"
    }
   ],
   "source": [
    "merged.os.value_counts()"
   ]
  },
  {
   "cell_type": "code",
   "execution_count": null,
   "id": "verified-raleigh",
   "metadata": {},
   "outputs": [],
   "source": []
  }
 ],
 "metadata": {
  "kernelspec": {
   "display_name": "Python 3",
   "language": "python",
   "name": "python3"
  },
  "language_info": {
   "codemirror_mode": {
    "name": "ipython",
    "version": 3
   },
   "file_extension": ".py",
   "mimetype": "text/x-python",
   "name": "python",
   "nbconvert_exporter": "python",
   "pygments_lexer": "ipython3",
   "version": "3.9.1"
  }
 },
 "nbformat": 4,
 "nbformat_minor": 5
}
